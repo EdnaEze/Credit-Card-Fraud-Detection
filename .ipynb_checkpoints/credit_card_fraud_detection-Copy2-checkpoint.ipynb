{
 "cells": [
  {
   "cell_type": "code",
   "execution_count": 1,
   "metadata": {
    "id": "YjpukKcBNEJP"
   },
   "outputs": [
    {
     "name": "stderr",
     "output_type": "stream",
     "text": [
      "C:\\Users\\ednac\\anaconda3\\lib\\site-packages\\scipy\\__init__.py:155: UserWarning: A NumPy version >=1.18.5 and <1.25.0 is required for this version of SciPy (detected version 1.25.2\n",
      "  warnings.warn(f\"A NumPy version >={np_minversion} and <{np_maxversion}\"\n"
     ]
    }
   ],
   "source": [
    "import numpy as np\n",
    "import pandas as pd\n",
    "import matplotlib.pyplot as plt\n",
    "import seaborn as sns\n",
    "\n",
    "from sklearn.linear_model import LogisticRegression\n",
    "from sklearn.svm import SVC\n",
    "from sklearn.naive_bayes import GaussianNB\n",
    "from sklearn.ensemble import RandomForestClassifier\n",
    "from xgboost import XGBClassifier\n",
    "from sklearn.model_selection import GridSearchCV\n",
    "\n",
    "from sklearn.pipeline import Pipeline\n",
    "from sklearn.preprocessing import StandardScaler\n",
    "from sklearn.metrics import accuracy_score, classification_report, confusion_matrix, ConfusionMatrixDisplay, roc_auc_score, roc_curve, RocCurveDisplay\n",
    "from sklearn.metrics import recall_score, precision_score\n",
    "\n",
    "#from genetic_selection import GeneticSelectionCV\n",
    "from sklearn_genetic import GAFeatureSelectionCV\n",
    "from imblearn.over_sampling import SMOTE\n",
    "import timeit\n",
    "from tabulate import tabulate\n",
    "from collections import Counter\n",
    "from sklearn.ensemble import VotingClassifier\n",
    "\n",
    "from utilities import evaluation_metrics, scores_table, plot_barchart, plot_roc_auc, grid_search_cv\n",
    "#pip install sklearn-genetic\n",
    "#pip install sklearn-genetic-opt"
   ]
  },
  {
   "cell_type": "code",
   "execution_count": 2,
   "metadata": {
    "id": "00Gp2BFj7xmL"
   },
   "outputs": [
    {
     "data": {
      "text/html": [
       "<div>\n",
       "<style scoped>\n",
       "    .dataframe tbody tr th:only-of-type {\n",
       "        vertical-align: middle;\n",
       "    }\n",
       "\n",
       "    .dataframe tbody tr th {\n",
       "        vertical-align: top;\n",
       "    }\n",
       "\n",
       "    .dataframe thead th {\n",
       "        text-align: right;\n",
       "    }\n",
       "</style>\n",
       "<table border=\"1\" class=\"dataframe\">\n",
       "  <thead>\n",
       "    <tr style=\"text-align: right;\">\n",
       "      <th></th>\n",
       "      <th>V4</th>\n",
       "      <th>V7</th>\n",
       "      <th>V10</th>\n",
       "      <th>V12</th>\n",
       "      <th>V14</th>\n",
       "      <th>V16</th>\n",
       "      <th>V17</th>\n",
       "      <th>V21</th>\n",
       "      <th>V24</th>\n",
       "      <th>V28</th>\n",
       "      <th>Amount</th>\n",
       "      <th>Class</th>\n",
       "    </tr>\n",
       "  </thead>\n",
       "  <tbody>\n",
       "    <tr>\n",
       "      <th>0</th>\n",
       "      <td>1.681259</td>\n",
       "      <td>0.937822</td>\n",
       "      <td>-0.116385</td>\n",
       "      <td>-0.523544</td>\n",
       "      <td>0.987795</td>\n",
       "      <td>0.084641</td>\n",
       "      <td>-0.136063</td>\n",
       "      <td>-0.112173</td>\n",
       "      <td>0.631496</td>\n",
       "      <td>0.103991</td>\n",
       "      <td>465.00</td>\n",
       "      <td>0</td>\n",
       "    </tr>\n",
       "    <tr>\n",
       "      <th>1</th>\n",
       "      <td>0.297820</td>\n",
       "      <td>-2.571801</td>\n",
       "      <td>1.269865</td>\n",
       "      <td>1.598242</td>\n",
       "      <td>0.587305</td>\n",
       "      <td>0.124582</td>\n",
       "      <td>-0.352808</td>\n",
       "      <td>-0.385840</td>\n",
       "      <td>0.635952</td>\n",
       "      <td>0.315491</td>\n",
       "      <td>6.01</td>\n",
       "      <td>0</td>\n",
       "    </tr>\n",
       "    <tr>\n",
       "      <th>2</th>\n",
       "      <td>0.083840</td>\n",
       "      <td>0.816489</td>\n",
       "      <td>0.024556</td>\n",
       "      <td>0.111034</td>\n",
       "      <td>0.875725</td>\n",
       "      <td>-0.634152</td>\n",
       "      <td>-0.230492</td>\n",
       "      <td>0.153164</td>\n",
       "      <td>0.098628</td>\n",
       "      <td>-0.077090</td>\n",
       "      <td>16.37</td>\n",
       "      <td>0</td>\n",
       "    </tr>\n",
       "    <tr>\n",
       "      <th>3</th>\n",
       "      <td>1.496151</td>\n",
       "      <td>0.298420</td>\n",
       "      <td>-0.209503</td>\n",
       "      <td>0.911417</td>\n",
       "      <td>-0.044924</td>\n",
       "      <td>-0.736753</td>\n",
       "      <td>0.225039</td>\n",
       "      <td>-0.010828</td>\n",
       "      <td>0.115813</td>\n",
       "      <td>0.041414</td>\n",
       "      <td>145.67</td>\n",
       "      <td>0</td>\n",
       "    </tr>\n",
       "    <tr>\n",
       "      <th>4</th>\n",
       "      <td>2.810175</td>\n",
       "      <td>2.216271</td>\n",
       "      <td>0.779595</td>\n",
       "      <td>-0.332759</td>\n",
       "      <td>0.045206</td>\n",
       "      <td>0.471108</td>\n",
       "      <td>-0.643196</td>\n",
       "      <td>0.036636</td>\n",
       "      <td>0.401559</td>\n",
       "      <td>-0.302437</td>\n",
       "      <td>239.00</td>\n",
       "      <td>0</td>\n",
       "    </tr>\n",
       "  </tbody>\n",
       "</table>\n",
       "</div>"
      ],
      "text/plain": [
       "         V4        V7       V10       V12       V14       V16       V17  \\\n",
       "0  1.681259  0.937822 -0.116385 -0.523544  0.987795  0.084641 -0.136063   \n",
       "1  0.297820 -2.571801  1.269865  1.598242  0.587305  0.124582 -0.352808   \n",
       "2  0.083840  0.816489  0.024556  0.111034  0.875725 -0.634152 -0.230492   \n",
       "3  1.496151  0.298420 -0.209503  0.911417 -0.044924 -0.736753  0.225039   \n",
       "4  2.810175  2.216271  0.779595 -0.332759  0.045206  0.471108 -0.643196   \n",
       "\n",
       "        V21       V24       V28  Amount  Class  \n",
       "0 -0.112173  0.631496  0.103991  465.00      0  \n",
       "1 -0.385840  0.635952  0.315491    6.01      0  \n",
       "2  0.153164  0.098628 -0.077090   16.37      0  \n",
       "3 -0.010828  0.115813  0.041414  145.67      0  \n",
       "4  0.036636  0.401559 -0.302437  239.00      0  "
      ]
     },
     "execution_count": 2,
     "metadata": {},
     "output_type": "execute_result"
    }
   ],
   "source": [
    "train_df = pd.read_csv('train_selected.csv')\n",
    "train_df.head()"
   ]
  },
  {
   "cell_type": "code",
   "execution_count": 3,
   "metadata": {
    "colab": {
     "base_uri": "https://localhost:8080/",
     "height": 299
    },
    "id": "824LYJ8Z8GiS",
    "outputId": "9a892bae-fdd5-4ade-bb45-a7ef6cecf543"
   },
   "outputs": [
    {
     "data": {
      "text/html": [
       "<div>\n",
       "<style scoped>\n",
       "    .dataframe tbody tr th:only-of-type {\n",
       "        vertical-align: middle;\n",
       "    }\n",
       "\n",
       "    .dataframe tbody tr th {\n",
       "        vertical-align: top;\n",
       "    }\n",
       "\n",
       "    .dataframe thead th {\n",
       "        text-align: right;\n",
       "    }\n",
       "</style>\n",
       "<table border=\"1\" class=\"dataframe\">\n",
       "  <thead>\n",
       "    <tr style=\"text-align: right;\">\n",
       "      <th></th>\n",
       "      <th>V4</th>\n",
       "      <th>V7</th>\n",
       "      <th>V10</th>\n",
       "      <th>V12</th>\n",
       "      <th>V14</th>\n",
       "      <th>V16</th>\n",
       "      <th>V17</th>\n",
       "      <th>V21</th>\n",
       "      <th>V24</th>\n",
       "      <th>V28</th>\n",
       "      <th>Amount</th>\n",
       "      <th>Class</th>\n",
       "    </tr>\n",
       "  </thead>\n",
       "  <tbody>\n",
       "    <tr>\n",
       "      <th>0</th>\n",
       "      <td>0.327766</td>\n",
       "      <td>0.252869</td>\n",
       "      <td>-0.615363</td>\n",
       "      <td>0.107840</td>\n",
       "      <td>-0.978809</td>\n",
       "      <td>0.288609</td>\n",
       "      <td>0.342724</td>\n",
       "      <td>-0.372971</td>\n",
       "      <td>-0.104115</td>\n",
       "      <td>-0.021370</td>\n",
       "      <td>9.99</td>\n",
       "      <td>0</td>\n",
       "    </tr>\n",
       "    <tr>\n",
       "      <th>1</th>\n",
       "      <td>0.597403</td>\n",
       "      <td>1.179119</td>\n",
       "      <td>-0.540011</td>\n",
       "      <td>0.625409</td>\n",
       "      <td>-0.758539</td>\n",
       "      <td>0.031087</td>\n",
       "      <td>0.305243</td>\n",
       "      <td>0.007156</td>\n",
       "      <td>-0.512283</td>\n",
       "      <td>0.239459</td>\n",
       "      <td>6.90</td>\n",
       "      <td>0</td>\n",
       "    </tr>\n",
       "    <tr>\n",
       "      <th>2</th>\n",
       "      <td>0.857215</td>\n",
       "      <td>0.002159</td>\n",
       "      <td>-0.551364</td>\n",
       "      <td>0.563880</td>\n",
       "      <td>0.762662</td>\n",
       "      <td>-1.511864</td>\n",
       "      <td>1.282341</td>\n",
       "      <td>0.310285</td>\n",
       "      <td>-0.624707</td>\n",
       "      <td>-0.030211</td>\n",
       "      <td>1.50</td>\n",
       "      <td>0</td>\n",
       "    </tr>\n",
       "    <tr>\n",
       "      <th>3</th>\n",
       "      <td>-0.586648</td>\n",
       "      <td>3.147745</td>\n",
       "      <td>-0.744389</td>\n",
       "      <td>-0.110292</td>\n",
       "      <td>-0.427190</td>\n",
       "      <td>1.249822</td>\n",
       "      <td>-1.502131</td>\n",
       "      <td>0.133062</td>\n",
       "      <td>0.206276</td>\n",
       "      <td>-0.139528</td>\n",
       "      <td>756.04</td>\n",
       "      <td>0</td>\n",
       "    </tr>\n",
       "    <tr>\n",
       "      <th>4</th>\n",
       "      <td>-0.162242</td>\n",
       "      <td>0.527353</td>\n",
       "      <td>0.143305</td>\n",
       "      <td>1.081719</td>\n",
       "      <td>0.108511</td>\n",
       "      <td>0.058658</td>\n",
       "      <td>-0.439721</td>\n",
       "      <td>-0.135906</td>\n",
       "      <td>0.014172</td>\n",
       "      <td>0.145412</td>\n",
       "      <td>8.91</td>\n",
       "      <td>0</td>\n",
       "    </tr>\n",
       "  </tbody>\n",
       "</table>\n",
       "</div>"
      ],
      "text/plain": [
       "         V4        V7       V10       V12       V14       V16       V17  \\\n",
       "0  0.327766  0.252869 -0.615363  0.107840 -0.978809  0.288609  0.342724   \n",
       "1  0.597403  1.179119 -0.540011  0.625409 -0.758539  0.031087  0.305243   \n",
       "2  0.857215  0.002159 -0.551364  0.563880  0.762662 -1.511864  1.282341   \n",
       "3 -0.586648  3.147745 -0.744389 -0.110292 -0.427190  1.249822 -1.502131   \n",
       "4 -0.162242  0.527353  0.143305  1.081719  0.108511  0.058658 -0.439721   \n",
       "\n",
       "        V21       V24       V28  Amount  Class  \n",
       "0 -0.372971 -0.104115 -0.021370    9.99      0  \n",
       "1  0.007156 -0.512283  0.239459    6.90      0  \n",
       "2  0.310285 -0.624707 -0.030211    1.50      0  \n",
       "3  0.133062  0.206276 -0.139528  756.04      0  \n",
       "4 -0.135906  0.014172  0.145412    8.91      0  "
      ]
     },
     "execution_count": 3,
     "metadata": {},
     "output_type": "execute_result"
    }
   ],
   "source": [
    "val_df = pd.read_csv('val_selected.csv')\n",
    "val_df.head()"
   ]
  },
  {
   "cell_type": "code",
   "execution_count": 4,
   "metadata": {},
   "outputs": [
    {
     "data": {
      "text/html": [
       "<div>\n",
       "<style scoped>\n",
       "    .dataframe tbody tr th:only-of-type {\n",
       "        vertical-align: middle;\n",
       "    }\n",
       "\n",
       "    .dataframe tbody tr th {\n",
       "        vertical-align: top;\n",
       "    }\n",
       "\n",
       "    .dataframe thead th {\n",
       "        text-align: right;\n",
       "    }\n",
       "</style>\n",
       "<table border=\"1\" class=\"dataframe\">\n",
       "  <thead>\n",
       "    <tr style=\"text-align: right;\">\n",
       "      <th></th>\n",
       "      <th>V4</th>\n",
       "      <th>V7</th>\n",
       "      <th>V10</th>\n",
       "      <th>V12</th>\n",
       "      <th>V14</th>\n",
       "      <th>V16</th>\n",
       "      <th>V17</th>\n",
       "      <th>V21</th>\n",
       "      <th>V24</th>\n",
       "      <th>V28</th>\n",
       "      <th>Amount</th>\n",
       "      <th>Class</th>\n",
       "    </tr>\n",
       "  </thead>\n",
       "  <tbody>\n",
       "    <tr>\n",
       "      <th>0</th>\n",
       "      <td>-0.277591</td>\n",
       "      <td>0.991747</td>\n",
       "      <td>-1.744176</td>\n",
       "      <td>1.145865</td>\n",
       "      <td>-0.096612</td>\n",
       "      <td>-0.294159</td>\n",
       "      <td>-0.082378</td>\n",
       "      <td>0.856441</td>\n",
       "      <td>0.536058</td>\n",
       "      <td>0.236036</td>\n",
       "      <td>1217.00</td>\n",
       "      <td>0</td>\n",
       "    </tr>\n",
       "    <tr>\n",
       "      <th>1</th>\n",
       "      <td>-2.770975</td>\n",
       "      <td>-0.491240</td>\n",
       "      <td>-0.673573</td>\n",
       "      <td>1.705658</td>\n",
       "      <td>0.237690</td>\n",
       "      <td>-2.936531</td>\n",
       "      <td>0.484655</td>\n",
       "      <td>-0.416346</td>\n",
       "      <td>0.009622</td>\n",
       "      <td>0.014826</td>\n",
       "      <td>26.31</td>\n",
       "      <td>0</td>\n",
       "    </tr>\n",
       "    <tr>\n",
       "      <th>2</th>\n",
       "      <td>-1.028361</td>\n",
       "      <td>3.308312</td>\n",
       "      <td>-2.012017</td>\n",
       "      <td>0.299910</td>\n",
       "      <td>-1.451170</td>\n",
       "      <td>0.995288</td>\n",
       "      <td>-0.008342</td>\n",
       "      <td>-0.084593</td>\n",
       "      <td>-0.611013</td>\n",
       "      <td>0.253554</td>\n",
       "      <td>680.91</td>\n",
       "      <td>0</td>\n",
       "    </tr>\n",
       "    <tr>\n",
       "      <th>3</th>\n",
       "      <td>0.070326</td>\n",
       "      <td>0.886700</td>\n",
       "      <td>-0.006214</td>\n",
       "      <td>0.697163</td>\n",
       "      <td>0.655563</td>\n",
       "      <td>-0.686316</td>\n",
       "      <td>-0.293587</td>\n",
       "      <td>0.163748</td>\n",
       "      <td>0.128632</td>\n",
       "      <td>-0.075323</td>\n",
       "      <td>12.92</td>\n",
       "      <td>0</td>\n",
       "    </tr>\n",
       "    <tr>\n",
       "      <th>4</th>\n",
       "      <td>-0.192904</td>\n",
       "      <td>0.467901</td>\n",
       "      <td>7.407039</td>\n",
       "      <td>-1.476121</td>\n",
       "      <td>-1.337504</td>\n",
       "      <td>-0.712907</td>\n",
       "      <td>-0.650421</td>\n",
       "      <td>-0.477313</td>\n",
       "      <td>-1.535126</td>\n",
       "      <td>0.758996</td>\n",
       "      <td>28.90</td>\n",
       "      <td>0</td>\n",
       "    </tr>\n",
       "  </tbody>\n",
       "</table>\n",
       "</div>"
      ],
      "text/plain": [
       "         V4        V7       V10       V12       V14       V16       V17  \\\n",
       "0 -0.277591  0.991747 -1.744176  1.145865 -0.096612 -0.294159 -0.082378   \n",
       "1 -2.770975 -0.491240 -0.673573  1.705658  0.237690 -2.936531  0.484655   \n",
       "2 -1.028361  3.308312 -2.012017  0.299910 -1.451170  0.995288 -0.008342   \n",
       "3  0.070326  0.886700 -0.006214  0.697163  0.655563 -0.686316 -0.293587   \n",
       "4 -0.192904  0.467901  7.407039 -1.476121 -1.337504 -0.712907 -0.650421   \n",
       "\n",
       "        V21       V24       V28   Amount  Class  \n",
       "0  0.856441  0.536058  0.236036  1217.00      0  \n",
       "1 -0.416346  0.009622  0.014826    26.31      0  \n",
       "2 -0.084593 -0.611013  0.253554   680.91      0  \n",
       "3  0.163748  0.128632 -0.075323    12.92      0  \n",
       "4 -0.477313 -1.535126  0.758996    28.90      0  "
      ]
     },
     "execution_count": 4,
     "metadata": {},
     "output_type": "execute_result"
    }
   ],
   "source": [
    "test_df = pd.read_csv('test_selected.csv')\n",
    "test_df.head()"
   ]
  },
  {
   "cell_type": "code",
   "execution_count": 5,
   "metadata": {
    "colab": {
     "base_uri": "https://localhost:8080/"
    },
    "id": "Rj_56YiA8JhB",
    "outputId": "b46aba8d-5e6d-4084-f53e-5a9bc7408a1a"
   },
   "outputs": [
    {
     "data": {
      "text/plain": [
       "(339912, 12)"
      ]
     },
     "execution_count": 5,
     "metadata": {},
     "output_type": "execute_result"
    }
   ],
   "source": [
    "train_df.shape"
   ]
  },
  {
   "cell_type": "code",
   "execution_count": 6,
   "metadata": {
    "colab": {
     "base_uri": "https://localhost:8080/",
     "height": 1000
    },
    "id": "795YtquW8MgS",
    "outputId": "292f220f-92d5-4b6a-8620-79c45003ca8a"
   },
   "outputs": [
    {
     "data": {
      "text/html": [
       "<div>\n",
       "<style scoped>\n",
       "    .dataframe tbody tr th:only-of-type {\n",
       "        vertical-align: middle;\n",
       "    }\n",
       "\n",
       "    .dataframe tbody tr th {\n",
       "        vertical-align: top;\n",
       "    }\n",
       "\n",
       "    .dataframe thead th {\n",
       "        text-align: right;\n",
       "    }\n",
       "</style>\n",
       "<table border=\"1\" class=\"dataframe\">\n",
       "  <thead>\n",
       "    <tr style=\"text-align: right;\">\n",
       "      <th></th>\n",
       "      <th>count</th>\n",
       "      <th>mean</th>\n",
       "      <th>std</th>\n",
       "      <th>min</th>\n",
       "      <th>25%</th>\n",
       "      <th>50%</th>\n",
       "      <th>75%</th>\n",
       "      <th>max</th>\n",
       "    </tr>\n",
       "  </thead>\n",
       "  <tbody>\n",
       "    <tr>\n",
       "      <th>Time</th>\n",
       "      <td>284807.0</td>\n",
       "      <td>9.481386e+04</td>\n",
       "      <td>47488.145955</td>\n",
       "      <td>0.000000</td>\n",
       "      <td>54201.500000</td>\n",
       "      <td>84692.000000</td>\n",
       "      <td>139320.500000</td>\n",
       "      <td>172792.000000</td>\n",
       "    </tr>\n",
       "    <tr>\n",
       "      <th>V1</th>\n",
       "      <td>284807.0</td>\n",
       "      <td>1.168375e-15</td>\n",
       "      <td>1.958696</td>\n",
       "      <td>-56.407510</td>\n",
       "      <td>-0.920373</td>\n",
       "      <td>0.018109</td>\n",
       "      <td>1.315642</td>\n",
       "      <td>2.454930</td>\n",
       "    </tr>\n",
       "    <tr>\n",
       "      <th>V2</th>\n",
       "      <td>284807.0</td>\n",
       "      <td>3.416908e-16</td>\n",
       "      <td>1.651309</td>\n",
       "      <td>-72.715728</td>\n",
       "      <td>-0.598550</td>\n",
       "      <td>0.065486</td>\n",
       "      <td>0.803724</td>\n",
       "      <td>22.057729</td>\n",
       "    </tr>\n",
       "    <tr>\n",
       "      <th>V3</th>\n",
       "      <td>284807.0</td>\n",
       "      <td>-1.379537e-15</td>\n",
       "      <td>1.516255</td>\n",
       "      <td>-48.325589</td>\n",
       "      <td>-0.890365</td>\n",
       "      <td>0.179846</td>\n",
       "      <td>1.027196</td>\n",
       "      <td>9.382558</td>\n",
       "    </tr>\n",
       "    <tr>\n",
       "      <th>V4</th>\n",
       "      <td>284807.0</td>\n",
       "      <td>2.074095e-15</td>\n",
       "      <td>1.415869</td>\n",
       "      <td>-5.683171</td>\n",
       "      <td>-0.848640</td>\n",
       "      <td>-0.019847</td>\n",
       "      <td>0.743341</td>\n",
       "      <td>16.875344</td>\n",
       "    </tr>\n",
       "    <tr>\n",
       "      <th>V5</th>\n",
       "      <td>284807.0</td>\n",
       "      <td>9.604066e-16</td>\n",
       "      <td>1.380247</td>\n",
       "      <td>-113.743307</td>\n",
       "      <td>-0.691597</td>\n",
       "      <td>-0.054336</td>\n",
       "      <td>0.611926</td>\n",
       "      <td>34.801666</td>\n",
       "    </tr>\n",
       "    <tr>\n",
       "      <th>V6</th>\n",
       "      <td>284807.0</td>\n",
       "      <td>1.487313e-15</td>\n",
       "      <td>1.332271</td>\n",
       "      <td>-26.160506</td>\n",
       "      <td>-0.768296</td>\n",
       "      <td>-0.274187</td>\n",
       "      <td>0.398565</td>\n",
       "      <td>73.301626</td>\n",
       "    </tr>\n",
       "    <tr>\n",
       "      <th>V7</th>\n",
       "      <td>284807.0</td>\n",
       "      <td>-5.556467e-16</td>\n",
       "      <td>1.237094</td>\n",
       "      <td>-43.557242</td>\n",
       "      <td>-0.554076</td>\n",
       "      <td>0.040103</td>\n",
       "      <td>0.570436</td>\n",
       "      <td>120.589494</td>\n",
       "    </tr>\n",
       "    <tr>\n",
       "      <th>V8</th>\n",
       "      <td>284807.0</td>\n",
       "      <td>1.213481e-16</td>\n",
       "      <td>1.194353</td>\n",
       "      <td>-73.216718</td>\n",
       "      <td>-0.208630</td>\n",
       "      <td>0.022358</td>\n",
       "      <td>0.327346</td>\n",
       "      <td>20.007208</td>\n",
       "    </tr>\n",
       "    <tr>\n",
       "      <th>V9</th>\n",
       "      <td>284807.0</td>\n",
       "      <td>-2.406331e-15</td>\n",
       "      <td>1.098632</td>\n",
       "      <td>-13.434066</td>\n",
       "      <td>-0.643098</td>\n",
       "      <td>-0.051429</td>\n",
       "      <td>0.597139</td>\n",
       "      <td>15.594995</td>\n",
       "    </tr>\n",
       "    <tr>\n",
       "      <th>V10</th>\n",
       "      <td>284807.0</td>\n",
       "      <td>2.239053e-15</td>\n",
       "      <td>1.088850</td>\n",
       "      <td>-24.588262</td>\n",
       "      <td>-0.535426</td>\n",
       "      <td>-0.092917</td>\n",
       "      <td>0.453923</td>\n",
       "      <td>23.745136</td>\n",
       "    </tr>\n",
       "    <tr>\n",
       "      <th>V11</th>\n",
       "      <td>284807.0</td>\n",
       "      <td>1.673327e-15</td>\n",
       "      <td>1.020713</td>\n",
       "      <td>-4.797473</td>\n",
       "      <td>-0.762494</td>\n",
       "      <td>-0.032757</td>\n",
       "      <td>0.739593</td>\n",
       "      <td>12.018913</td>\n",
       "    </tr>\n",
       "    <tr>\n",
       "      <th>V12</th>\n",
       "      <td>284807.0</td>\n",
       "      <td>-1.247012e-15</td>\n",
       "      <td>0.999201</td>\n",
       "      <td>-18.683715</td>\n",
       "      <td>-0.405571</td>\n",
       "      <td>0.140033</td>\n",
       "      <td>0.618238</td>\n",
       "      <td>7.848392</td>\n",
       "    </tr>\n",
       "    <tr>\n",
       "      <th>V13</th>\n",
       "      <td>284807.0</td>\n",
       "      <td>8.190001e-16</td>\n",
       "      <td>0.995274</td>\n",
       "      <td>-5.791881</td>\n",
       "      <td>-0.648539</td>\n",
       "      <td>-0.013568</td>\n",
       "      <td>0.662505</td>\n",
       "      <td>7.126883</td>\n",
       "    </tr>\n",
       "    <tr>\n",
       "      <th>V14</th>\n",
       "      <td>284807.0</td>\n",
       "      <td>1.207294e-15</td>\n",
       "      <td>0.958596</td>\n",
       "      <td>-19.214325</td>\n",
       "      <td>-0.425574</td>\n",
       "      <td>0.050601</td>\n",
       "      <td>0.493150</td>\n",
       "      <td>10.526766</td>\n",
       "    </tr>\n",
       "    <tr>\n",
       "      <th>V15</th>\n",
       "      <td>284807.0</td>\n",
       "      <td>4.887456e-15</td>\n",
       "      <td>0.915316</td>\n",
       "      <td>-4.498945</td>\n",
       "      <td>-0.582884</td>\n",
       "      <td>0.048072</td>\n",
       "      <td>0.648821</td>\n",
       "      <td>8.877742</td>\n",
       "    </tr>\n",
       "    <tr>\n",
       "      <th>V16</th>\n",
       "      <td>284807.0</td>\n",
       "      <td>1.437716e-15</td>\n",
       "      <td>0.876253</td>\n",
       "      <td>-14.129855</td>\n",
       "      <td>-0.468037</td>\n",
       "      <td>0.066413</td>\n",
       "      <td>0.523296</td>\n",
       "      <td>17.315112</td>\n",
       "    </tr>\n",
       "    <tr>\n",
       "      <th>V17</th>\n",
       "      <td>284807.0</td>\n",
       "      <td>-3.772171e-16</td>\n",
       "      <td>0.849337</td>\n",
       "      <td>-25.162799</td>\n",
       "      <td>-0.483748</td>\n",
       "      <td>-0.065676</td>\n",
       "      <td>0.399675</td>\n",
       "      <td>9.253526</td>\n",
       "    </tr>\n",
       "    <tr>\n",
       "      <th>V18</th>\n",
       "      <td>284807.0</td>\n",
       "      <td>9.564149e-16</td>\n",
       "      <td>0.838176</td>\n",
       "      <td>-9.498746</td>\n",
       "      <td>-0.498850</td>\n",
       "      <td>-0.003636</td>\n",
       "      <td>0.500807</td>\n",
       "      <td>5.041069</td>\n",
       "    </tr>\n",
       "    <tr>\n",
       "      <th>V19</th>\n",
       "      <td>284807.0</td>\n",
       "      <td>1.039917e-15</td>\n",
       "      <td>0.814041</td>\n",
       "      <td>-7.213527</td>\n",
       "      <td>-0.456299</td>\n",
       "      <td>0.003735</td>\n",
       "      <td>0.458949</td>\n",
       "      <td>5.591971</td>\n",
       "    </tr>\n",
       "    <tr>\n",
       "      <th>V20</th>\n",
       "      <td>284807.0</td>\n",
       "      <td>6.406204e-16</td>\n",
       "      <td>0.770925</td>\n",
       "      <td>-54.497720</td>\n",
       "      <td>-0.211721</td>\n",
       "      <td>-0.062481</td>\n",
       "      <td>0.133041</td>\n",
       "      <td>39.420904</td>\n",
       "    </tr>\n",
       "    <tr>\n",
       "      <th>V21</th>\n",
       "      <td>284807.0</td>\n",
       "      <td>1.654067e-16</td>\n",
       "      <td>0.734524</td>\n",
       "      <td>-34.830382</td>\n",
       "      <td>-0.228395</td>\n",
       "      <td>-0.029450</td>\n",
       "      <td>0.186377</td>\n",
       "      <td>27.202839</td>\n",
       "    </tr>\n",
       "    <tr>\n",
       "      <th>V22</th>\n",
       "      <td>284807.0</td>\n",
       "      <td>-3.568593e-16</td>\n",
       "      <td>0.725702</td>\n",
       "      <td>-10.933144</td>\n",
       "      <td>-0.542350</td>\n",
       "      <td>0.006782</td>\n",
       "      <td>0.528554</td>\n",
       "      <td>10.503090</td>\n",
       "    </tr>\n",
       "    <tr>\n",
       "      <th>V23</th>\n",
       "      <td>284807.0</td>\n",
       "      <td>2.578648e-16</td>\n",
       "      <td>0.624460</td>\n",
       "      <td>-44.807735</td>\n",
       "      <td>-0.161846</td>\n",
       "      <td>-0.011193</td>\n",
       "      <td>0.147642</td>\n",
       "      <td>22.528412</td>\n",
       "    </tr>\n",
       "    <tr>\n",
       "      <th>V24</th>\n",
       "      <td>284807.0</td>\n",
       "      <td>4.473266e-15</td>\n",
       "      <td>0.605647</td>\n",
       "      <td>-2.836627</td>\n",
       "      <td>-0.354586</td>\n",
       "      <td>0.040976</td>\n",
       "      <td>0.439527</td>\n",
       "      <td>4.584549</td>\n",
       "    </tr>\n",
       "    <tr>\n",
       "      <th>V25</th>\n",
       "      <td>284807.0</td>\n",
       "      <td>5.340915e-16</td>\n",
       "      <td>0.521278</td>\n",
       "      <td>-10.295397</td>\n",
       "      <td>-0.317145</td>\n",
       "      <td>0.016594</td>\n",
       "      <td>0.350716</td>\n",
       "      <td>7.519589</td>\n",
       "    </tr>\n",
       "    <tr>\n",
       "      <th>V26</th>\n",
       "      <td>284807.0</td>\n",
       "      <td>1.683437e-15</td>\n",
       "      <td>0.482227</td>\n",
       "      <td>-2.604551</td>\n",
       "      <td>-0.326984</td>\n",
       "      <td>-0.052139</td>\n",
       "      <td>0.240952</td>\n",
       "      <td>3.517346</td>\n",
       "    </tr>\n",
       "    <tr>\n",
       "      <th>V27</th>\n",
       "      <td>284807.0</td>\n",
       "      <td>-3.660091e-16</td>\n",
       "      <td>0.403632</td>\n",
       "      <td>-22.565679</td>\n",
       "      <td>-0.070840</td>\n",
       "      <td>0.001342</td>\n",
       "      <td>0.091045</td>\n",
       "      <td>31.612198</td>\n",
       "    </tr>\n",
       "    <tr>\n",
       "      <th>V28</th>\n",
       "      <td>284807.0</td>\n",
       "      <td>-1.227390e-16</td>\n",
       "      <td>0.330083</td>\n",
       "      <td>-15.430084</td>\n",
       "      <td>-0.052960</td>\n",
       "      <td>0.011244</td>\n",
       "      <td>0.078280</td>\n",
       "      <td>33.847808</td>\n",
       "    </tr>\n",
       "    <tr>\n",
       "      <th>Amount</th>\n",
       "      <td>284807.0</td>\n",
       "      <td>8.834962e+01</td>\n",
       "      <td>250.120109</td>\n",
       "      <td>0.000000</td>\n",
       "      <td>5.600000</td>\n",
       "      <td>22.000000</td>\n",
       "      <td>77.165000</td>\n",
       "      <td>25691.160000</td>\n",
       "    </tr>\n",
       "    <tr>\n",
       "      <th>Class</th>\n",
       "      <td>284807.0</td>\n",
       "      <td>1.727486e-03</td>\n",
       "      <td>0.041527</td>\n",
       "      <td>0.000000</td>\n",
       "      <td>0.000000</td>\n",
       "      <td>0.000000</td>\n",
       "      <td>0.000000</td>\n",
       "      <td>1.000000</td>\n",
       "    </tr>\n",
       "  </tbody>\n",
       "</table>\n",
       "</div>"
      ],
      "text/plain": [
       "           count          mean           std         min           25%  \\\n",
       "Time    284807.0  9.481386e+04  47488.145955    0.000000  54201.500000   \n",
       "V1      284807.0  1.168375e-15      1.958696  -56.407510     -0.920373   \n",
       "V2      284807.0  3.416908e-16      1.651309  -72.715728     -0.598550   \n",
       "V3      284807.0 -1.379537e-15      1.516255  -48.325589     -0.890365   \n",
       "V4      284807.0  2.074095e-15      1.415869   -5.683171     -0.848640   \n",
       "V5      284807.0  9.604066e-16      1.380247 -113.743307     -0.691597   \n",
       "V6      284807.0  1.487313e-15      1.332271  -26.160506     -0.768296   \n",
       "V7      284807.0 -5.556467e-16      1.237094  -43.557242     -0.554076   \n",
       "V8      284807.0  1.213481e-16      1.194353  -73.216718     -0.208630   \n",
       "V9      284807.0 -2.406331e-15      1.098632  -13.434066     -0.643098   \n",
       "V10     284807.0  2.239053e-15      1.088850  -24.588262     -0.535426   \n",
       "V11     284807.0  1.673327e-15      1.020713   -4.797473     -0.762494   \n",
       "V12     284807.0 -1.247012e-15      0.999201  -18.683715     -0.405571   \n",
       "V13     284807.0  8.190001e-16      0.995274   -5.791881     -0.648539   \n",
       "V14     284807.0  1.207294e-15      0.958596  -19.214325     -0.425574   \n",
       "V15     284807.0  4.887456e-15      0.915316   -4.498945     -0.582884   \n",
       "V16     284807.0  1.437716e-15      0.876253  -14.129855     -0.468037   \n",
       "V17     284807.0 -3.772171e-16      0.849337  -25.162799     -0.483748   \n",
       "V18     284807.0  9.564149e-16      0.838176   -9.498746     -0.498850   \n",
       "V19     284807.0  1.039917e-15      0.814041   -7.213527     -0.456299   \n",
       "V20     284807.0  6.406204e-16      0.770925  -54.497720     -0.211721   \n",
       "V21     284807.0  1.654067e-16      0.734524  -34.830382     -0.228395   \n",
       "V22     284807.0 -3.568593e-16      0.725702  -10.933144     -0.542350   \n",
       "V23     284807.0  2.578648e-16      0.624460  -44.807735     -0.161846   \n",
       "V24     284807.0  4.473266e-15      0.605647   -2.836627     -0.354586   \n",
       "V25     284807.0  5.340915e-16      0.521278  -10.295397     -0.317145   \n",
       "V26     284807.0  1.683437e-15      0.482227   -2.604551     -0.326984   \n",
       "V27     284807.0 -3.660091e-16      0.403632  -22.565679     -0.070840   \n",
       "V28     284807.0 -1.227390e-16      0.330083  -15.430084     -0.052960   \n",
       "Amount  284807.0  8.834962e+01    250.120109    0.000000      5.600000   \n",
       "Class   284807.0  1.727486e-03      0.041527    0.000000      0.000000   \n",
       "\n",
       "                 50%            75%            max  \n",
       "Time    84692.000000  139320.500000  172792.000000  \n",
       "V1          0.018109       1.315642       2.454930  \n",
       "V2          0.065486       0.803724      22.057729  \n",
       "V3          0.179846       1.027196       9.382558  \n",
       "V4         -0.019847       0.743341      16.875344  \n",
       "V5         -0.054336       0.611926      34.801666  \n",
       "V6         -0.274187       0.398565      73.301626  \n",
       "V7          0.040103       0.570436     120.589494  \n",
       "V8          0.022358       0.327346      20.007208  \n",
       "V9         -0.051429       0.597139      15.594995  \n",
       "V10        -0.092917       0.453923      23.745136  \n",
       "V11        -0.032757       0.739593      12.018913  \n",
       "V12         0.140033       0.618238       7.848392  \n",
       "V13        -0.013568       0.662505       7.126883  \n",
       "V14         0.050601       0.493150      10.526766  \n",
       "V15         0.048072       0.648821       8.877742  \n",
       "V16         0.066413       0.523296      17.315112  \n",
       "V17        -0.065676       0.399675       9.253526  \n",
       "V18        -0.003636       0.500807       5.041069  \n",
       "V19         0.003735       0.458949       5.591971  \n",
       "V20        -0.062481       0.133041      39.420904  \n",
       "V21        -0.029450       0.186377      27.202839  \n",
       "V22         0.006782       0.528554      10.503090  \n",
       "V23        -0.011193       0.147642      22.528412  \n",
       "V24         0.040976       0.439527       4.584549  \n",
       "V25         0.016594       0.350716       7.519589  \n",
       "V26        -0.052139       0.240952       3.517346  \n",
       "V27         0.001342       0.091045      31.612198  \n",
       "V28         0.011244       0.078280      33.847808  \n",
       "Amount     22.000000      77.165000   25691.160000  \n",
       "Class       0.000000       0.000000       1.000000  "
      ]
     },
     "execution_count": 6,
     "metadata": {},
     "output_type": "execute_result"
    }
   ],
   "source": [
    "df.describe().T"
   ]
  },
  {
   "cell_type": "code",
   "execution_count": 7,
   "metadata": {
    "colab": {
     "base_uri": "https://localhost:8080/"
    },
    "id": "0FLZqyM61OUK",
    "outputId": "ed63cbe9-345c-415e-f864-23f1ab06ec35"
   },
   "outputs": [
    {
     "name": "stdout",
     "output_type": "stream",
     "text": [
      "<class 'pandas.core.frame.DataFrame'>\n",
      "RangeIndex: 284807 entries, 0 to 284806\n",
      "Data columns (total 31 columns):\n",
      " #   Column  Non-Null Count   Dtype  \n",
      "---  ------  --------------   -----  \n",
      " 0   Time    284807 non-null  float64\n",
      " 1   V1      284807 non-null  float64\n",
      " 2   V2      284807 non-null  float64\n",
      " 3   V3      284807 non-null  float64\n",
      " 4   V4      284807 non-null  float64\n",
      " 5   V5      284807 non-null  float64\n",
      " 6   V6      284807 non-null  float64\n",
      " 7   V7      284807 non-null  float64\n",
      " 8   V8      284807 non-null  float64\n",
      " 9   V9      284807 non-null  float64\n",
      " 10  V10     284807 non-null  float64\n",
      " 11  V11     284807 non-null  float64\n",
      " 12  V12     284807 non-null  float64\n",
      " 13  V13     284807 non-null  float64\n",
      " 14  V14     284807 non-null  float64\n",
      " 15  V15     284807 non-null  float64\n",
      " 16  V16     284807 non-null  float64\n",
      " 17  V17     284807 non-null  float64\n",
      " 18  V18     284807 non-null  float64\n",
      " 19  V19     284807 non-null  float64\n",
      " 20  V20     284807 non-null  float64\n",
      " 21  V21     284807 non-null  float64\n",
      " 22  V22     284807 non-null  float64\n",
      " 23  V23     284807 non-null  float64\n",
      " 24  V24     284807 non-null  float64\n",
      " 25  V25     284807 non-null  float64\n",
      " 26  V26     284807 non-null  float64\n",
      " 27  V27     284807 non-null  float64\n",
      " 28  V28     284807 non-null  float64\n",
      " 29  Amount  284807 non-null  float64\n",
      " 30  Class   284807 non-null  int64  \n",
      "dtypes: float64(30), int64(1)\n",
      "memory usage: 67.4 MB\n"
     ]
    }
   ],
   "source": [
    "df.info()"
   ]
  },
  {
   "cell_type": "code",
   "execution_count": 8,
   "metadata": {
    "colab": {
     "base_uri": "https://localhost:8080/"
    },
    "id": "JZG2puuH1UY4",
    "outputId": "4787187f-cf15-40c3-ffc3-90e67ce436a9"
   },
   "outputs": [
    {
     "data": {
      "text/plain": [
       "Time      0\n",
       "V1        0\n",
       "V2        0\n",
       "V3        0\n",
       "V4        0\n",
       "V5        0\n",
       "V6        0\n",
       "V7        0\n",
       "V8        0\n",
       "V9        0\n",
       "V10       0\n",
       "V11       0\n",
       "V12       0\n",
       "V13       0\n",
       "V14       0\n",
       "V15       0\n",
       "V16       0\n",
       "V17       0\n",
       "V18       0\n",
       "V19       0\n",
       "V20       0\n",
       "V21       0\n",
       "V22       0\n",
       "V23       0\n",
       "V24       0\n",
       "V25       0\n",
       "V26       0\n",
       "V27       0\n",
       "V28       0\n",
       "Amount    0\n",
       "Class     0\n",
       "dtype: int64"
      ]
     },
     "execution_count": 8,
     "metadata": {},
     "output_type": "execute_result"
    }
   ],
   "source": [
    "df.isnull().sum()"
   ]
  },
  {
   "cell_type": "code",
   "execution_count": 9,
   "metadata": {
    "colab": {
     "base_uri": "https://localhost:8080/"
    },
    "id": "pqLWA2mQ1aot",
    "outputId": "443b45ba-0860-48eb-c02c-e90d7745af03"
   },
   "outputs": [
    {
     "data": {
      "text/plain": [
       "1081"
      ]
     },
     "execution_count": 9,
     "metadata": {},
     "output_type": "execute_result"
    }
   ],
   "source": [
    "df.duplicated().sum()"
   ]
  },
  {
   "cell_type": "code",
   "execution_count": 10,
   "metadata": {
    "colab": {
     "base_uri": "https://localhost:8080/"
    },
    "id": "UII9VA-T1ggG",
    "outputId": "5757ae9e-dd65-441f-cf4e-5653f9d3495a"
   },
   "outputs": [
    {
     "data": {
      "text/plain": [
       "0"
      ]
     },
     "execution_count": 10,
     "metadata": {},
     "output_type": "execute_result"
    }
   ],
   "source": [
    "df = df.drop_duplicates()\n",
    "df.duplicated().sum()"
   ]
  },
  {
   "cell_type": "code",
   "execution_count": 11,
   "metadata": {
    "colab": {
     "base_uri": "https://localhost:8080/"
    },
    "id": "bH7yMajn8iFg",
    "outputId": "d667f88d-00bb-4199-8b01-776cc36cd05c"
   },
   "outputs": [
    {
     "name": "stdout",
     "output_type": "stream",
     "text": [
      "There are 283726 attributes and 31 features after duplicates have been removed\n"
     ]
    }
   ],
   "source": [
    "print(\"There are \" + str(df.shape[0]) + \" attributes and \" + str(df.shape[1]) + \" features after duplicates have been removed\")"
   ]
  },
  {
   "cell_type": "markdown",
   "metadata": {
    "id": "PvW55-OEnad7"
   },
   "source": [
    "## BASE MODELS - WITHOUT FEATURE SELECTION OR OVERSAMPLING"
   ]
  },
  {
   "cell_type": "code",
   "execution_count": 30,
   "metadata": {
    "id": "Xd_KXjAsV9gc"
   },
   "outputs": [],
   "source": [
    "models = [\n",
    "    LogisticRegression(random_state=42),\n",
    "    SVC(random_state=42, probability=True),\n",
    "    GaussianNB(),\n",
    "    RandomForestClassifier(random_state=42),\n",
    "    XGBClassifier(random_state=42)\n",
    "    ]\n",
    "\n",
    "model_names = [\n",
    "    'Logistic Regression',\n",
    "    'SVM',\n",
    "    'Gaussian Naive Bayes',\n",
    "    'Random Forest',\n",
    "    'XGBoost'\n",
    "    ]"
   ]
  },
  {
   "cell_type": "markdown",
   "metadata": {
    "id": "WA4V4ApfT8Ig"
   },
   "source": [
    "## TRAINING PIPELINE WITH FEATURE SCALING\n",
    "\n",
    "### STANDARDIZATION"
   ]
  },
  {
   "cell_type": "code",
   "execution_count": 31,
   "metadata": {
    "id": "48kECUbaesb0"
   },
   "outputs": [],
   "source": [
    "pipelines = []\n",
    "\n",
    "for model in models:\n",
    "  pipe = Pipeline([\n",
    "      ('scaler', StandardScaler()),\n",
    "      ('classifier', model)\n",
    "      ])\n",
    "  pipelines.append(pipe)"
   ]
  },
  {
   "cell_type": "code",
   "execution_count": 32,
   "metadata": {
    "colab": {
     "base_uri": "https://localhost:8080/"
    },
    "id": "2tX-AGzj58OG",
    "outputId": "5232653b-d181-424c-cede-6847cb64b543"
   },
   "outputs": [
    {
     "data": {
      "text/plain": [
       "[Pipeline(steps=[('scaler', StandardScaler()),\n",
       "                 ('classifier', LogisticRegression(random_state=42))]),\n",
       " Pipeline(steps=[('scaler', StandardScaler()),\n",
       "                 ('classifier', SVC(probability=True, random_state=42))]),\n",
       " Pipeline(steps=[('scaler', StandardScaler()), ('classifier', GaussianNB())]),\n",
       " Pipeline(steps=[('scaler', StandardScaler()),\n",
       "                 ('classifier', RandomForestClassifier(random_state=42))]),\n",
       " Pipeline(steps=[('scaler', StandardScaler()),\n",
       "                 ('classifier',\n",
       "                  XGBClassifier(base_score=None, booster=None, callbacks=None,\n",
       "                                colsample_bylevel=None, colsample_bynode=None,\n",
       "                                colsample_bytree=None,\n",
       "                                early_stopping_rounds=None,\n",
       "                                enable_categorical=False, eval_metric=None,\n",
       "                                feature_types=None, gamma=None, gpu_id=None,\n",
       "                                grow_policy=None, importance_type=None,\n",
       "                                interaction_constraints=None, learning_rate=None,\n",
       "                                max_bin=None, max_cat_threshold=None,\n",
       "                                max_cat_to_onehot=None, max_delta_step=None,\n",
       "                                max_depth=None, max_leaves=None,\n",
       "                                min_child_weight=None, missing=nan,\n",
       "                                monotone_constraints=None, n_estimators=100,\n",
       "                                n_jobs=None, num_parallel_tree=None,\n",
       "                                predictor=None, random_state=42, ...))])]"
      ]
     },
     "execution_count": 32,
     "metadata": {},
     "output_type": "execute_result"
    }
   ],
   "source": [
    "pipelines"
   ]
  },
  {
   "cell_type": "markdown",
   "metadata": {},
   "source": [
    "# TRAINING ON FEATURES FILTERED DATA"
   ]
  },
  {
   "cell_type": "code",
   "execution_count": null,
   "metadata": {},
   "outputs": [],
   "source": [
    "all_accuracy_ga = []\n",
    "all_recall_ga = []\n",
    "all_precision_ga = []\n",
    "all_roc_auc_ga = []\n",
    "all_fpr_ga =[]\n",
    "all_tpr_ga = []"
   ]
  },
  {
   "cell_type": "code",
   "execution_count": null,
   "metadata": {},
   "outputs": [],
   "source": [
    "# Train and evaluate each model using the pipelines\n",
    "\n",
    "for model_name, pipeline_ga in zip(model_names, pipelines):\n",
    "\n",
    "  # Time the training process\n",
    "  training_time = timeit.timeit(\n",
    "      stmt = '''pipeline_ga.fit(df_train_selected, y_train_copy)''',\n",
    "      globals = globals(), number = 1\n",
    "      )\n",
    "\n",
    "  # Print the training time for the current classifier\n",
    "  print(f\"Time taken to train {model_name}: {training_time:.2f} seconds\")\n",
    "\n",
    "  # Evaluate model\n",
    "  accuracy, recall, precision, roc_auc_Score, fpr, tpr = evaluation_metrics(pipeline_ga, df_val_selected, y_val_copy, model_name, labels)\n",
    "    \n",
    "\n",
    "  all_accuracy_ga.append(accuracy)\n",
    "  all_recall_ga.append(recall)\n",
    "  all_precision_ga.append(precision)\n",
    "  all_roc_auc_ga.append(roc_auc_Score)\n",
    "  all_fpr_ga.append(fpr)\n",
    "  all_tpr_ga.append(tpr)\n",
    "  print('===================================================================================')"
   ]
  },
  {
   "cell_type": "code",
   "execution_count": null,
   "metadata": {},
   "outputs": [],
   "source": [
    "scores_table(model_names, all_accuracy_ga, all_recall_ga, all_roc_auc_ga, 'Model Performance - GA')"
   ]
  },
  {
   "cell_type": "code",
   "execution_count": null,
   "metadata": {},
   "outputs": [],
   "source": [
    "plot_barchart(model_names, all_accuracy_ga, 'Accuracy', 'Accuracy Comparison - GA')"
   ]
  },
  {
   "cell_type": "code",
   "execution_count": null,
   "metadata": {},
   "outputs": [],
   "source": [
    "plot_barchart(model_names, all_recall_ga, 'Recall', 'Recall Comparison - GA')"
   ]
  },
  {
   "cell_type": "code",
   "execution_count": null,
   "metadata": {},
   "outputs": [],
   "source": [
    "plot_roc_auc(model_names, all_fpr_ga, all_tpr_ga, all_roc_auc_ga, 'ROC AUC CURVES - GA')"
   ]
  },
  {
   "cell_type": "markdown",
   "metadata": {
    "id": "qLDWxcx5JJMg"
   },
   "source": [
    "## SOLVING IMBALANCE PROBLEM - OVERSAMPLING\n",
    "\n"
   ]
  },
  {
   "cell_type": "code",
   "execution_count": null,
   "metadata": {
    "id": "6vp-cUttWUNn"
   },
   "outputs": [],
   "source": [
    "sm = SMOTE(random_state=0)\n",
    "\n",
    "df_selected_oversampled, y_selected_oversampled = sm.fit_resample(df_train_selected, y_train_copy)"
   ]
  },
  {
   "cell_type": "code",
   "execution_count": null,
   "metadata": {
    "colab": {
     "base_uri": "https://localhost:8080/"
    },
    "id": "gjptQR-tX_mo",
    "outputId": "12e4659c-424b-4639-bbd6-95ae0c0680d3"
   },
   "outputs": [],
   "source": [
    "Counter(y_selected_oversampled)"
   ]
  },
  {
   "cell_type": "code",
   "execution_count": null,
   "metadata": {
    "colab": {
     "base_uri": "https://localhost:8080/"
    },
    "id": "R2iIPmaDYM2_",
    "outputId": "11bfe682-a5dc-4bd0-ea82-2b2b1f0b8926"
   },
   "outputs": [],
   "source": [
    "df_selected_oversampled.shape"
   ]
  },
  {
   "cell_type": "code",
   "execution_count": null,
   "metadata": {
    "id": "wrfYViwNdo66"
   },
   "outputs": [],
   "source": [
    "# df_val_selected_oversampled, y_val_selected_oversampled = sm.fit_resample(df_val_selected, y_val_copy)\n",
    "# df_test_selected_oversampled, y_test_selected_oversampled= sm.fit_resample(df_test_selected, y_test_copy)"
   ]
  },
  {
   "cell_type": "code",
   "execution_count": null,
   "metadata": {
    "colab": {
     "base_uri": "https://localhost:8080/"
    },
    "id": "0Mr1jybKeVTG",
    "outputId": "b948e1df-fd8c-463b-b520-34643769ebe3"
   },
   "outputs": [],
   "source": [
    "# df_val_selected_oversampled.shape"
   ]
  },
  {
   "cell_type": "code",
   "execution_count": null,
   "metadata": {},
   "outputs": [],
   "source": [
    "new_pipelines = []\n",
    "\n",
    "for model in models:\n",
    "  pipe = Pipeline([\n",
    "      ('sampler', SMOTE(random_state=0)),\n",
    "      ('scaler', StandardScaler()),\n",
    "      ('classifier', model)\n",
    "      ])\n",
    "  new_pipelines.append(pipe)"
   ]
  },
  {
   "cell_type": "code",
   "execution_count": null,
   "metadata": {},
   "outputs": [],
   "source": [
    "new_pipelines"
   ]
  },
  {
   "cell_type": "markdown",
   "metadata": {
    "id": "n_cVcU3RPPzA"
   },
   "source": [
    "## TRAINING AND EVALUATION ON VALIDATION SET WITH FILTERED DATA"
   ]
  },
  {
   "cell_type": "code",
   "execution_count": null,
   "metadata": {
    "id": "X6CvUSxISq3x"
   },
   "outputs": [],
   "source": [
    "all_accuracy_ga_sm = []\n",
    "all_recall_ga_sm = []\n",
    "all_precision_ga_sm = []\n",
    "all_roc_auc_ga_sm = []\n",
    "all_fpr_ga_sm =[]\n",
    "all_tpr_ga_sm = []"
   ]
  },
  {
   "cell_type": "code",
   "execution_count": null,
   "metadata": {
    "colab": {
     "base_uri": "https://localhost:8080/",
     "height": 1000
    },
    "id": "FJo3MG-Sjdq-",
    "outputId": "9732e575-bf8e-4a50-aa81-b285dbf1308d"
   },
   "outputs": [],
   "source": [
    "# Train and evaluate each model using the pipelines\n",
    "\n",
    "for model_name, pipeline_ga_sm in zip(model_names, new_pipelines):\n",
    "\n",
    "  # Time the training process\n",
    "  training_time = timeit.timeit(\n",
    "      stmt = '''pipeline_ga_sm.fit(df_train_selected, y_train_copy)''',\n",
    "      globals = globals(), number = 1\n",
    "      )\n",
    "\n",
    "  # Print the training time for the current classifier\n",
    "  print(f\"Time taken to train {model_name}: {training_time:.2f} seconds\")\n",
    "\n",
    "  # Evaluate model\n",
    "  accuracy, recall, precision, roc_auc_Score, fpr, tpr = evaluation_metrics(pipeline_ga_sm, df_val_selected, y_val_copy, model_name, labels)\n",
    "    \n",
    "\n",
    "  all_accuracy_ga_sm.append(accuracy)\n",
    "  all_recall_ga_sm.append(recall)\n",
    "  all_precision_ga_sm.append(precision)\n",
    "  all_roc_auc_ga_sm.append(roc_auc_Score)\n",
    "  all_fpr_ga_sm.append(fpr)\n",
    "  all_tpr_ga_sm.append(tpr)\n",
    "  print('===================================================================================')"
   ]
  },
  {
   "cell_type": "code",
   "execution_count": null,
   "metadata": {
    "colab": {
     "base_uri": "https://localhost:8080/"
    },
    "id": "H7T-4WIQw1m5",
    "outputId": "a929a3ed-e738-459d-fef0-4c8948e09ebf"
   },
   "outputs": [],
   "source": [
    "scores_table(model_names, all_accuracy_ga_sm, all_recall_ga_sm, all_roc_auc_ga_sm, 'Model Performance - GA + SM')"
   ]
  },
  {
   "cell_type": "code",
   "execution_count": null,
   "metadata": {
    "colab": {
     "base_uri": "https://localhost:8080/",
     "height": 612
    },
    "id": "BCQWff6EuoJN",
    "outputId": "a87d351f-3726-4865-fbd7-c974f5394929"
   },
   "outputs": [],
   "source": [
    "plot_barchart(model_names, all_accuracy_ga_sm, 'Accuracy', 'Accuracy Comparison - GA + SM')"
   ]
  },
  {
   "cell_type": "code",
   "execution_count": null,
   "metadata": {
    "colab": {
     "base_uri": "https://localhost:8080/",
     "height": 612
    },
    "id": "P61uMQg-y7pt",
    "outputId": "08b5ed84-f148-4306-9626-f9fe7cfe5737"
   },
   "outputs": [],
   "source": [
    "plot_barchart(model_names, all_recall_ga_sm, 'Recall', 'Recall Comparison - GA + SM')"
   ]
  },
  {
   "cell_type": "code",
   "execution_count": null,
   "metadata": {},
   "outputs": [],
   "source": [
    "plot_roc_auc(model_names, all_fpr_ga_sm, all_tpr_ga_sm, all_roc_auc_ga_sm, 'ROC AUC CURVES - GA + SM')"
   ]
  },
  {
   "cell_type": "markdown",
   "metadata": {
    "id": "pQLdUTHFZH6E"
   },
   "source": [
    "## DEFINE PARAMETERS"
   ]
  },
  {
   "cell_type": "code",
   "execution_count": 56,
   "metadata": {
    "id": "52ivGylenmDN"
   },
   "outputs": [],
   "source": [
    "# Logistic Regression\n",
    "param_grid_lr = {\n",
    "    'C': np.logspace(-4, 2, 7),\n",
    "}\n",
    "\n",
    "# Support Vector Machines\n",
    "param_grid_svm = {\n",
    "    'C': [0.01, 0.1, 1],\n",
    "    'kernel': ['linear', 'rbf', 'poly'],\n",
    "    }\n",
    "\n",
    "# Naive Bayes\n",
    "param_grid_gnb = {\n",
    "    'var_smoothing': [1e-9, 1e-8, 1e-7],\n",
    "}\n",
    "\n",
    "# Random Forest\n",
    "param_grid_rf = {\n",
    "    'n_estimators': [10, 100, 1000],\n",
    "    'max_depth': [None, 10, 100],\n",
    "}\n",
    "\n",
    "# XGBoost\n",
    "param_grid_xgb = {\n",
    "    'eta': [0.01, 0.1, 0.3],\n",
    "    'max_depth': [2, 4, 6],\n",
    "    'gamma': [0, 0.1, 1],\n",
    "}"
   ]
  },
  {
   "cell_type": "code",
   "execution_count": 57,
   "metadata": {
    "id": "l11ESRE_WRFn"
   },
   "outputs": [],
   "source": [
    "param_grids = [\n",
    "    param_grid_lr,\n",
    "    param_grid_svm,\n",
    "    param_grid_gnb,\n",
    "    param_grid_rf,\n",
    "    param_grid_xgb\n",
    "    ]"
   ]
  },
  {
   "cell_type": "markdown",
   "metadata": {
    "id": "wypWzEdHYrjq"
   },
   "source": [
    "## FUNCTION FOR HYPERPARAMETER OPTIMIZATION"
   ]
  },
  {
   "cell_type": "code",
   "execution_count": 58,
   "metadata": {
    "id": "-W4RpNZi750m"
   },
   "outputs": [],
   "source": [
    "# def grid_search_cv(X_train, y_train, models, param_grids, cv=3):\n",
    "#   best_models = []\n",
    "#   best_scores = []\n",
    "\n",
    "#   # Initialize StandardScaler\n",
    "#   scaler = StandardScaler()\n",
    "#   X_train_scaled = scaler.fit_transform(X_train)\n",
    "\n",
    "#   for model, param_grid in zip(models, param_grids):\n",
    "#     grid_search = GridSearchCV(model, param_grid, cv=3, n_jobs=-1, verbose=2)\n",
    "\n",
    "#     grid_search.fit(X_train_scaled, y_train)\n",
    "\n",
    "#     best_models.append(grid_search.best_estimator_)\n",
    "#     best_scores.append(grid_search.best_score_)\n",
    "\n",
    "#   return best_models, best_scores"
   ]
  },
  {
   "cell_type": "code",
   "execution_count": null,
   "metadata": {
    "colab": {
     "base_uri": "https://localhost:8080/",
     "height": 175
    },
    "id": "gZvOAf0iUDL4",
    "outputId": "3f0bc27b-44b2-4488-838b-01db249d1c16"
   },
   "outputs": [
    {
     "name": "stdout",
     "output_type": "stream",
     "text": [
      "Fitting 3 folds for each of 7 candidates, totalling 21 fits\n",
      "Fitting 3 folds for each of 9 candidates, totalling 27 fits\n"
     ]
    }
   ],
   "source": [
    "best_models, best_scores = grid_search_cv(df_selected_oversampled, y_selected_oversampled, models, param_grids)"
   ]
  },
  {
   "cell_type": "code",
   "execution_count": null,
   "metadata": {},
   "outputs": [],
   "source": [
    "best_models"
   ]
  },
  {
   "cell_type": "code",
   "execution_count": null,
   "metadata": {},
   "outputs": [],
   "source": [
    "best_scores"
   ]
  },
  {
   "cell_type": "markdown",
   "metadata": {},
   "source": [
    "# TRAINING AND EVALUATION WITH OPTIMIZED HYPERPARAMETER"
   ]
  },
  {
   "cell_type": "code",
   "execution_count": null,
   "metadata": {},
   "outputs": [],
   "source": [
    "grid_models = [\n",
    "    LogisticRegression(random_state=42),\n",
    "    SVC(random_state=42, probability=True),\n",
    "    GaussianNB(),\n",
    "    RandomForestClassifier(random_state=42),\n",
    "    XGBClassifier(random_state=42)\n",
    "    ]"
   ]
  },
  {
   "cell_type": "code",
   "execution_count": null,
   "metadata": {},
   "outputs": [],
   "source": [
    "grid_pipelines = []\n",
    "\n",
    "for model in grid_models:\n",
    "  pipe = Pipeline([\n",
    "      ('scaler', StandardScaler()),\n",
    "      ('classifier', model)\n",
    "      ])\n",
    "  grid_pipelines.append(pipe)"
   ]
  },
  {
   "cell_type": "code",
   "execution_count": null,
   "metadata": {},
   "outputs": [],
   "source": [
    "# Lists to store evaluation metrics across models\n",
    "grid_accuracy = []\n",
    "grid_recall = []\n",
    "grid_precision = []\n",
    "grid_roc_auc = []\n",
    "grid_fpr = []\n",
    "grid_tpr = []"
   ]
  },
  {
   "cell_type": "code",
   "execution_count": null,
   "metadata": {},
   "outputs": [],
   "source": [
    "# Train and evaluate each model using the pipelines\n",
    "\n",
    "for model_name, grid_pipeline in zip(model_names, grid_pipelines):\n",
    "\n",
    "  # Time the training process\n",
    "  training_time = timeit.timeit(\n",
    "      stmt = '''grid_pipeline.fit(df_selected_oversampled, y_selected_oversampled)''',\n",
    "      globals = globals(), number = 1\n",
    "      )\n",
    "\n",
    "  # Print the training time for the current classifier\n",
    "  print(f\"Time taken to train {model_name}: {training_time:.2f} seconds\")\n",
    "\n",
    "  # Evaluate model\n",
    "  accuracy, recall, precision, roc_auc_Score, fpr, tpr = evaluation_metrics(grid_pipeline, df_val_selected_oversampled, y_val_selected_oversampled, model_name, labels)\n",
    "\n",
    "  grid_accuracy.append(accuracy)\n",
    "  grid_recall.append(recall)\n",
    "  grid_precision.append(precision)\n",
    "  grid_roc_auc.append(roc_auc_Score)\n",
    "  grid_fpr.append(fpr)\n",
    "  grid_tpr.append(tpr)\n",
    "  print('===================================================================================')"
   ]
  },
  {
   "cell_type": "code",
   "execution_count": null,
   "metadata": {},
   "outputs": [],
   "source": [
    "scores_table(model_names, grid_accuracy, grid_recall, grid_roc_auc, 'Model Performance - GA + SM + HO')"
   ]
  },
  {
   "cell_type": "code",
   "execution_count": null,
   "metadata": {},
   "outputs": [],
   "source": [
    "plot_barchart(model_names, grid_accuracy, 'Accuracy', 'Accuracy Comparison - GA + SM + HO')"
   ]
  },
  {
   "cell_type": "code",
   "execution_count": null,
   "metadata": {},
   "outputs": [],
   "source": [
    "plot_barchart(model_names, grid_recall, 'Recall', 'Recall Comparison - GA + SM + HO')"
   ]
  },
  {
   "cell_type": "code",
   "execution_count": null,
   "metadata": {},
   "outputs": [],
   "source": [
    "plot_roc_auc(model_names, grid_fpr, grid_tpr, grid_roc_auc, 'ROC AUC CURVES - GA + SM + HO')"
   ]
  },
  {
   "cell_type": "markdown",
   "metadata": {},
   "source": [
    "# ENSEMBLE LEARNING AND HYPERPARAMETER OPTIMIZATION"
   ]
  },
  {
   "cell_type": "code",
   "execution_count": null,
   "metadata": {},
   "outputs": [],
   "source": []
  },
  {
   "cell_type": "code",
   "execution_count": null,
   "metadata": {},
   "outputs": [],
   "source": [
    "lr = LogisticRegression(random_state=42),\n",
    "svc = SVC(random_state=42, probability=True),\n",
    "gnb = GaussianNB(),\n",
    "rf = RandomForestClassifier(random_state=42),\n",
    "xgb = XGBClassifier(random_state=42)\n",
    "\n",
    "estimators = [\n",
    "    ('lr', lr),\n",
    "    ('svc', svc), \n",
    "    ('gnb', gnb), \n",
    "    ('rf', rf), \n",
    "    ('xgb', xgb)\n",
    "]"
   ]
  },
  {
   "cell_type": "code",
   "execution_count": null,
   "metadata": {},
   "outputs": [],
   "source": [
    "ensemble_clf = VotingClassifier(\n",
    "    estimators = estimators,\n",
    "    voting = 'soft',\n",
    "    n_jobs = -1,\n",
    "    verbose= True\n",
    ")"
   ]
  },
  {
   "cell_type": "code",
   "execution_count": null,
   "metadata": {},
   "outputs": [],
   "source": [
    "ensemble_clf.fit(df_selected_oversampled, y_selected_oversampled)\n",
    "#ensemble_clf.predict(X)\n",
    "accuracy, recall, precision, roc_auc_Score, fpr, tpr = evaluation_metrics(ensemble_clf, df_val_selected_oversampled, y_val_selected_oversampled, 'Ensemble Learning', )"
   ]
  }
 ],
 "metadata": {
  "accelerator": "GPU",
  "colab": {
   "gpuType": "T4",
   "provenance": [],
   "toc_visible": true
  },
  "kernelspec": {
   "display_name": "Python 3 (ipykernel)",
   "language": "python",
   "name": "python3"
  },
  "language_info": {
   "codemirror_mode": {
    "name": "ipython",
    "version": 3
   },
   "file_extension": ".py",
   "mimetype": "text/x-python",
   "name": "python",
   "nbconvert_exporter": "python",
   "pygments_lexer": "ipython3",
   "version": "3.9.13"
  }
 },
 "nbformat": 4,
 "nbformat_minor": 1
}
